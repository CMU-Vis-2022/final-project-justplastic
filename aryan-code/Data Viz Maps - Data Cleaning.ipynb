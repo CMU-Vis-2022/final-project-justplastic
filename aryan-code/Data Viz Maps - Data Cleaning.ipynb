{
 "cells": [
  {
   "cell_type": "code",
   "execution_count": 151,
   "id": "49356a28",
   "metadata": {},
   "outputs": [],
   "source": [
    "import pandas as pd\n",
    "import numpy as np"
   ]
  },
  {
   "cell_type": "code",
   "execution_count": 66,
   "id": "9e0d11a7",
   "metadata": {},
   "outputs": [],
   "source": [
    "pc_df = pd.read_csv(\"Per-Capita-Waste-Generation.csv\")\n",
    "pc_df.rename(columns={\"Per capita plastic waste (kg/person/day)\": \"pop\",\"Entity\":\"country\",\"Code\":\"code\"},inplace=True)\n",
    "pc_df.drop(columns=['Year'],inplace=True)\n",
    "pc_df.to_csv('per-capita-person-day.csv',index=False)"
   ]
  },
  {
   "cell_type": "code",
   "execution_count": 67,
   "id": "61424f97",
   "metadata": {},
   "outputs": [],
   "source": [
    "mismanage_df = pd.read_csv(\"Contry-Wise-Mismanaged-Plastic-2019.csv\")\n",
    "mismanage_df.dropna(inplace=True)\n",
    "mismanage_df.drop(columns=['Year'],inplace=True)\n",
    "mismanage_df.rename(columns={\"Mismanaged plastic waste per capita (kg per year)\": \"pop\",\n",
    "                             \"Entity\":\"country\",\"Code\":\"code\"},inplace=True)\n",
    "mismanage_df.to_csv('mismanage.csv',index=False)"
   ]
  },
  {
   "cell_type": "code",
   "execution_count": 172,
   "id": "36a6a87a",
   "metadata": {},
   "outputs": [],
   "source": [
    "country_code = {}\n",
    "for index,row in mismanage_df.iterrows():\n",
    "    country_code[row.country] = row.code\n",
    "for index,row in pc_df.iterrows():\n",
    "    country_code[row.country] = row.code\n",
    "    \n",
    "country_code['Afghanistan'] = 'AFG'\n",
    "country_code['Africa'] = np.nan\n",
    "country_code['Andorra'] = 'AND'\n",
    "country_code['Armenia'] = 'ARM'\n",
    "country_code['Asia'] = np.nan\n",
    "country_code['Austria'] = 'AUT'\n",
    "country_code['Azerbaijan'] = 'AZE'\n",
    "country_code['Belarus'] = 'BLR'\n",
    "country_code['Bolivia'] = 'BOL'\n",
    "country_code['Botswana'] = 'BOT'\n",
    "country_code['Burundi'] = 'BDI'\n",
    "country_code['Czechia'] = 'CZE'\n",
    "country_code['Eswatini'] = 'SWZ'\n",
    "country_code['Ethiopia'] = 'ETH'\n",
    "country_code['Europe'] = np.nan\n",
    "country_code['Bolivia'] = 'BOL'\n",
    "country_code['High-income countries'] = np.nan\n",
    "country_code['Hungary'] = 'HUN'"
   ]
  },
  {
   "cell_type": "code",
   "execution_count": 173,
   "id": "8071ddcf",
   "metadata": {},
   "outputs": [],
   "source": [
    "export_df = pd.read_csv(\"Waste-Export-Import-Data.csv\")\n",
    "export_df = export_df[['Waste exports per capita','Entity']]\n",
    "export_df.rename(columns={\"Waste exports per capita\": \"pop\",\n",
    "                          \"Entity\":\"country\"},inplace=True)\n",
    "export_df = export_df.groupby(['country'],as_index=False).mean()"
   ]
  },
  {
   "cell_type": "code",
   "execution_count": 176,
   "id": "c759784d",
   "metadata": {},
   "outputs": [],
   "source": [
    "codes = []\n",
    "for index,row in export_df.iterrows():\n",
    "    if row['country'] in country_code:\n",
    "        codes.append(country_code[row['country']])\n",
    "    else:\n",
    "        codes.append(np.nan)\n",
    "        \n",
    "export_df['code'] = codes\n",
    "export_df.dropna(inplace=True)\n",
    "export_df.to_csv('plastic-export.csv',index=False)"
   ]
  }
 ],
 "metadata": {
  "kernelspec": {
   "display_name": "Python 3 (ipykernel)",
   "language": "python",
   "name": "python3"
  },
  "language_info": {
   "codemirror_mode": {
    "name": "ipython",
    "version": 3
   },
   "file_extension": ".py",
   "mimetype": "text/x-python",
   "name": "python",
   "nbconvert_exporter": "python",
   "pygments_lexer": "ipython3",
   "version": "3.9.7"
  }
 },
 "nbformat": 4,
 "nbformat_minor": 5
}
