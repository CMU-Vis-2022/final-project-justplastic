{
 "cells": [
  {
   "cell_type": "code",
   "execution_count": 1,
   "id": "8e48e596",
   "metadata": {},
   "outputs": [],
   "source": [
    "import pandas as pd"
   ]
  },
  {
   "cell_type": "code",
   "execution_count": 51,
   "id": "0d02c5b8",
   "metadata": {},
   "outputs": [],
   "source": [
    "pc_df = pd.read_csv(\"Per-Capita-Waste-Generation.csv\")\n",
    "pc_df.rename(columns={\"Per capita plastic waste (kg/person/day)\": \"per_cap_person_day\"},inplace=True)\n",
    "pc_df.drop(columns=['Year'],inplace=True)\n",
    "pc_df.to_csv('per-capita-person-day.csv')"
   ]
  },
  {
   "cell_type": "code",
   "execution_count": 52,
   "id": "c9fe74b4",
   "metadata": {},
   "outputs": [],
   "source": [
    "mismanage_df = pd.read_csv(\"Contry-Wise-Mismanaged-Plastic-2019.csv\")\n",
    "mismanage_df.dropna(inplace=True)\n",
    "mismanage_df.drop(columns=['Year'],inplace=True)\n",
    "mismanage_df.rename(columns={\"Mismanaged plastic waste per capita (kg per year)\": \"mismanaged_per_cap\"},inplace=True)\n",
    "mismanage_df.to_csv('mismanage.csv')"
   ]
  },
  {
   "cell_type": "code",
   "execution_count": 48,
   "id": "d2b424ab",
   "metadata": {},
   "outputs": [],
   "source": [
    "export_df = pd.read_csv(\"Waste-Export-Import-Data.csv\")\n",
    "export_df = export_df[['Waste exports per capita','Entity']]\n",
    "export_df = export_df.groupby(['Entity']).mean()"
   ]
  },
  {
   "cell_type": "code",
   "execution_count": null,
   "id": "47cc4cf2",
   "metadata": {},
   "outputs": [],
   "source": []
  },
  {
   "cell_type": "code",
   "execution_count": null,
   "id": "2da4e96d",
   "metadata": {},
   "outputs": [],
   "source": []
  },
  {
   "cell_type": "code",
   "execution_count": null,
   "id": "95a3aecd",
   "metadata": {},
   "outputs": [],
   "source": []
  }
 ],
 "metadata": {
  "kernelspec": {
   "display_name": "Python 3 (ipykernel)",
   "language": "python",
   "name": "python3"
  },
  "language_info": {
   "codemirror_mode": {
    "name": "ipython",
    "version": 3
   },
   "file_extension": ".py",
   "mimetype": "text/x-python",
   "name": "python",
   "nbconvert_exporter": "python",
   "pygments_lexer": "ipython3",
   "version": "3.9.7"
  }
 },
 "nbformat": 4,
 "nbformat_minor": 5
}
